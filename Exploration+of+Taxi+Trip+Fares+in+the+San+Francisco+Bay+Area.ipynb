{
 "cells": [
  {
   "cell_type": "markdown",
   "metadata": {},
   "source": [
    "\n",
    "# *Exploration of Taxi Trip Fares in the San Francisco Bay Area*"
   ]
  },
  {
   "cell_type": "code",
   "execution_count": 1,
   "metadata": {
    "collapsed": true
   },
   "outputs": [],
   "source": [
    "from datascience import *\n",
    "import numpy as np\n",
    "import matplotlib.pyplot as plt\n",
    "import warnings\n",
    "warnings.filterwarnings('ignore')\n",
    "%matplotlib inline"
   ]
  },
  {
   "cell_type": "code",
   "execution_count": 2,
   "metadata": {
    "collapsed": true
   },
   "outputs": [],
   "source": [
    "taxi_data = Table.read_table(\"SF_taxi_data.csv\")"
   ]
  },
  {
   "cell_type": "markdown",
   "metadata": {},
   "source": [
    "### Relationship Between Fares and Distance"
   ]
  },
  {
   "cell_type": "markdown",
   "metadata": {},
   "source": [
    "According to the SFMTA fare calculation table, <br>\n",
    "$Fare(x) \\geq 3.5 + 0.55 × (5x − 1)$ <br>\n",
    "We will analyze how this model compares to the actual relationship between fares and distance using real data."
   ]
  },
  {
   "cell_type": "code",
   "execution_count": 3,
   "metadata": {},
   "outputs": [
    {
     "data": {
      "text/plain": [
       "51.760001810791501"
      ]
     },
     "execution_count": 3,
     "metadata": {},
     "output_type": "execute_result"
    }
   ],
   "source": [
    "predicted_fare = 3.5 + 0.55 * (5 * taxi_data.column(\"dist (miles)\") - 1)\n",
    "actual_fare = taxi_data.column(\"fare ($)\")\n",
    "least_squared_error = sum((actual_fare - predicted_fare) ** 2) / len(actual_fare)\n",
    "least_squared_error"
   ]
  },
  {
   "cell_type": "markdown",
   "metadata": {},
   "source": [
    "Since the least squared error between the actual and predicted fares is significantly over 0, we can see that the model is not an accurate indicator of the actual relationship between fares and distance."
   ]
  },
  {
   "cell_type": "markdown",
   "metadata": {},
   "source": [
    "### Analysis of Trips Related to SFO"
   ]
  },
  {
   "cell_type": "markdown",
   "metadata": {},
   "source": [
    "In order to split up the total taxi trips to trips that include SFO and trips that do not include SFO, let us divide the taxi_data table into two tables that fit the criteria."
   ]
  },
  {
   "cell_type": "code",
   "execution_count": 4,
   "metadata": {
    "collapsed": true
   },
   "outputs": [],
   "source": [
    "sfo_taz = taxi_data.group(\"deptaz\").sort(\"count\", descending=True).column(\"deptaz\").item(0)\n",
    "sfo_labeled_table = taxi_data.with_column(\"sfo\", np.logical_or(taxi_data.column(\"deptaz\") == np.full(taxi_data.num_rows, sfo_taz), taxi_data.column(\"arrtaz\") == np.full(taxi_data.num_rows, sfo_taz)))\n",
    "sfo_trips = sfo_labeled_table.where(\"sfo\", True).drop(\"sfo\")\n",
    "no_sfo_trips = sfo_labeled_table.where(\"sfo\", False).drop(\"sfo\")"
   ]
  },
  {
   "cell_type": "markdown",
   "metadata": {},
   "source": [
    "Let us analyze the differences between trips that include SFO and trips that do not by looking at the distances and fares."
   ]
  },
  {
   "cell_type": "code",
   "execution_count": 5,
   "metadata": {
    "scrolled": true
   },
   "outputs": [
    {
     "name": "stdout",
     "output_type": "stream",
     "text": [
      "Mean distance for sfo trips :  13.6399973334\n",
      "Mean distance for non-sfo trips :  2.14582874527\n",
      "Mean fare for sfo trips :  49.0883790447\n",
      "Mean fare for non-sfo trips :  12.3978968537\n"
     ]
    }
   ],
   "source": [
    "print(\"Mean distance for sfo trips : \", np.mean(sfo_trips.column(\"dist (miles)\")))\n",
    "print(\"Mean distance for non-sfo trips : \", np.mean(no_sfo_trips.column(\"dist (miles)\")))\n",
    "print(\"Mean fare for sfo trips : \", np.mean(sfo_trips.column(\"fare ($)\")))\n",
    "print(\"Mean fare for non-sfo trips : \", np.mean(no_sfo_trips.column(\"fare ($)\")))"
   ]
  },
  {
   "cell_type": "markdown",
   "metadata": {},
   "source": [
    "From these means, we can see that the distances for trips including SFO are on average much bigger than other trips, hence the average fare is also higher. This logically makes sense because SFO is quite far from most hotspots in the Bay Area."
   ]
  },
  {
   "cell_type": "markdown",
   "metadata": {},
   "source": [
    "### Linear Regression of Travel Distance vs. Extra Cost (PART 3)"
   ]
  },
  {
   "cell_type": "code",
   "execution_count": 6,
   "metadata": {
    "collapsed": true
   },
   "outputs": [],
   "source": [
    "import pandas as pd"
   ]
  },
  {
   "cell_type": "code",
   "execution_count": 8,
   "metadata": {},
   "outputs": [
    {
     "data": {
      "text/html": [
       "<div>\n",
       "<style>\n",
       "    .dataframe thead tr:only-child th {\n",
       "        text-align: right;\n",
       "    }\n",
       "\n",
       "    .dataframe thead th {\n",
       "        text-align: left;\n",
       "    }\n",
       "\n",
       "    .dataframe tbody tr th {\n",
       "        vertical-align: top;\n",
       "    }\n",
       "</style>\n",
       "<table border=\"1\" class=\"dataframe\">\n",
       "  <thead>\n",
       "    <tr style=\"text-align: right;\">\n",
       "      <th></th>\n",
       "      <th>id</th>\n",
       "      <th>departure time</th>\n",
       "      <th>arrival time</th>\n",
       "      <th>fare ($)</th>\n",
       "      <th>num</th>\n",
       "      <th>dep lon</th>\n",
       "      <th>dep lat</th>\n",
       "      <th>arr lon</th>\n",
       "      <th>arr lat</th>\n",
       "      <th>deptaz</th>\n",
       "      <th>arrtaz</th>\n",
       "      <th>dist (miles)</th>\n",
       "    </tr>\n",
       "  </thead>\n",
       "  <tbody>\n",
       "    <tr>\n",
       "      <th>0</th>\n",
       "      <td>0</td>\n",
       "      <td>9/1/12 0:11</td>\n",
       "      <td>9/1/12 0:20</td>\n",
       "      <td>13.20</td>\n",
       "      <td>1</td>\n",
       "      <td>-122.413540</td>\n",
       "      <td>37.802683</td>\n",
       "      <td>-122.421277</td>\n",
       "      <td>37.785395</td>\n",
       "      <td>38</td>\n",
       "      <td>30</td>\n",
       "      <td>1.980835</td>\n",
       "    </tr>\n",
       "    <tr>\n",
       "      <th>1</th>\n",
       "      <td>1</td>\n",
       "      <td>9/1/12 0:23</td>\n",
       "      <td>9/1/12 0:31</td>\n",
       "      <td>10.65</td>\n",
       "      <td>1</td>\n",
       "      <td>-122.419700</td>\n",
       "      <td>37.786090</td>\n",
       "      <td>-122.435217</td>\n",
       "      <td>37.762177</td>\n",
       "      <td>30</td>\n",
       "      <td>94</td>\n",
       "      <td>2.402241</td>\n",
       "    </tr>\n",
       "    <tr>\n",
       "      <th>2</th>\n",
       "      <td>2</td>\n",
       "      <td>9/1/12 0:45</td>\n",
       "      <td>9/1/12 0:49</td>\n",
       "      <td>9.00</td>\n",
       "      <td>1</td>\n",
       "      <td>-122.415120</td>\n",
       "      <td>37.774672</td>\n",
       "      <td>-122.407657</td>\n",
       "      <td>37.782615</td>\n",
       "      <td>10</td>\n",
       "      <td>11</td>\n",
       "      <td>0.479348</td>\n",
       "    </tr>\n",
       "    <tr>\n",
       "      <th>3</th>\n",
       "      <td>3</td>\n",
       "      <td>9/1/12 0:41</td>\n",
       "      <td>9/1/12 0:54</td>\n",
       "      <td>13.95</td>\n",
       "      <td>2</td>\n",
       "      <td>-122.419392</td>\n",
       "      <td>37.806622</td>\n",
       "      <td>-122.415393</td>\n",
       "      <td>37.778115</td>\n",
       "      <td>40</td>\n",
       "      <td>10</td>\n",
       "      <td>2.122408</td>\n",
       "    </tr>\n",
       "    <tr>\n",
       "      <th>4</th>\n",
       "      <td>4</td>\n",
       "      <td>9/1/12 1:09</td>\n",
       "      <td>9/1/12 1:13</td>\n",
       "      <td>7.35</td>\n",
       "      <td>1</td>\n",
       "      <td>-122.429722</td>\n",
       "      <td>37.797790</td>\n",
       "      <td>-122.418060</td>\n",
       "      <td>37.789032</td>\n",
       "      <td>45</td>\n",
       "      <td>32</td>\n",
       "      <td>1.038070</td>\n",
       "    </tr>\n",
       "  </tbody>\n",
       "</table>\n",
       "</div>"
      ],
      "text/plain": [
       "   id departure time arrival time  fare ($)  num     dep lon    dep lat  \\\n",
       "0   0    9/1/12 0:11  9/1/12 0:20     13.20    1 -122.413540  37.802683   \n",
       "1   1    9/1/12 0:23  9/1/12 0:31     10.65    1 -122.419700  37.786090   \n",
       "2   2    9/1/12 0:45  9/1/12 0:49      9.00    1 -122.415120  37.774672   \n",
       "3   3    9/1/12 0:41  9/1/12 0:54     13.95    2 -122.419392  37.806622   \n",
       "4   4    9/1/12 1:09  9/1/12 1:13      7.35    1 -122.429722  37.797790   \n",
       "\n",
       "      arr lon    arr lat  deptaz  arrtaz  dist (miles)  \n",
       "0 -122.421277  37.785395      38      30      1.980835  \n",
       "1 -122.435217  37.762177      30      94      2.402241  \n",
       "2 -122.407657  37.782615      10      11      0.479348  \n",
       "3 -122.415393  37.778115      40      10      2.122408  \n",
       "4 -122.418060  37.789032      45      32      1.038070  "
      ]
     },
     "execution_count": 8,
     "metadata": {},
     "output_type": "execute_result"
    }
   ],
   "source": [
    "taxi = taxi_data.to_df()\n",
    "taxi.head()"
   ]
  },
  {
   "cell_type": "code",
   "execution_count": 6,
   "metadata": {
    "collapsed": true
   },
   "outputs": [],
   "source": [
    "# Analysis here"
   ]
  },
  {
   "cell_type": "markdown",
   "metadata": {},
   "source": [
    "### Linear Regression of Travel Duration vs. Extra Cost"
   ]
  },
  {
   "cell_type": "code",
   "execution_count": 7,
   "metadata": {
    "collapsed": true
   },
   "outputs": [],
   "source": [
    "# Analysis here"
   ]
  },
  {
   "cell_type": "markdown",
   "metadata": {},
   "source": [
    "### Linear Regression vs. K-Nearest Neighbors"
   ]
  },
  {
   "cell_type": "code",
   "execution_count": null,
   "metadata": {
    "collapsed": true
   },
   "outputs": [],
   "source": [
    "# Analysis here"
   ]
  }
 ],
 "metadata": {
  "kernelspec": {
   "display_name": "Python 3",
   "language": "python",
   "name": "python3"
  },
  "language_info": {
   "codemirror_mode": {
    "name": "ipython",
    "version": 3
   },
   "file_extension": ".py",
   "mimetype": "text/x-python",
   "name": "python",
   "nbconvert_exporter": "python",
   "pygments_lexer": "ipython3",
   "version": "3.6.1"
  }
 },
 "nbformat": 4,
 "nbformat_minor": 2
}
